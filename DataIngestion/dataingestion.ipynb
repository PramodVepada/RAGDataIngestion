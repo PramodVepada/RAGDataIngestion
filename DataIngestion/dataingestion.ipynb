{
 "cells": [
  {
   "cell_type": "code",
   "execution_count": null,
   "id": "01d57f46",
   "metadata": {},
   "outputs": [],
   "source": [
    "import os\n",
    "import pandas as pd\n",
    "import numpy as np\n",
    "from dotenv import load_dotenv \n",
    "\n",
    "import langchain\n",
    "from typing import List, Dict, Any\n"
   ]
  },
  {
   "cell_type": "code",
   "execution_count": 2,
   "id": "4f553ca5",
   "metadata": {},
   "outputs": [],
   "source": [
    "from langchain_core.documents import Document \n",
    "'''\n",
    "It is better to have out data or text in document structure expected by langchain\n",
    "that is the reason we are using this library, to basically convert raw text to langchain document structure. Each document object\n",
    "will have page_content and metadata attributes. Page_content will contain the text and metadata will contain the metadata of the document.\n",
    "'''\n",
    "from langchain.text_splitter import (\n",
    "    RecursiveCharacterTextSplitter,\n",
    "    CharacterTextSplitter,\n",
    "    TokenTextSplitter\n",
    ") # This is the splitter that will split the text into chunks"
   ]
  },
  {
   "cell_type": "code",
   "execution_count": 4,
   "id": "e3d3c15b",
   "metadata": {},
   "outputs": [
    {
     "name": "stdout",
     "output_type": "stream",
     "text": [
      "content = This is just for testing purposes. But let me tell you one thing - One day I will be working a big product based company like google\n",
      "metadata = {'source': \"Pramod's thought\", 'Author': 'Pramod Vepada', 'date': '04-09-2025', 'category': 'Ambition'}\n"
     ]
    }
   ],
   "source": [
    "doc = Document(\n",
    "    page_content=\"This is just for testing purposes. But let me tell you one thing - One day I will be working a big product based company like google\",\n",
    "    metadata=\n",
    "    {\n",
    "        \"source\": \"Pramod's thought\",\n",
    "        \"Author\": \"Pramod Vepada\",\n",
    "        \"date\": \"04-09-2025\",\n",
    "        \"category\": \"Ambition\"\n",
    "    }\n",
    ")\n",
    "\n",
    "print(f\"content = {doc.page_content}\")\n",
    "print(f\"metadata = {doc.metadata}\") # This will print the metadata of the document\n"
   ]
  },
  {
   "cell_type": "markdown",
   "id": "8f48ea5f",
   "metadata": {},
   "source": [
    "#### The metadata field in LangChain's Document object is crucial for RAG applications because it enables:\n",
    "\n",
    "Key Benefits\n",
    "1. Source Attribution\n",
    "\n",
    "- Track which file, URL, or database the content came from\n",
    "- Provide citations in responses to users\n",
    "- Enable fact-checking and verification\n",
    "\n",
    "2. Filtering & Routing\n",
    "\n",
    "- Filter documents by type, date, author, or domain\n",
    "- Route queries to specific document subsets\n",
    "- Implement access control based on metadata\n",
    "\n",
    "3. Context Enhancement\n",
    "\n",
    "- Store document titles, summaries, or categories\n",
    "- Include creation dates, authors, or document types\n",
    "- Add custom tags for better retrieval\n",
    "\n",
    "4. Retrieval Optimization\n",
    "\n",
    "- Use metadata for hybrid search (semantic + metadata filtering)\n",
    "- Implement time-based or relevance scoring\n",
    "- Enable multi-modal retrieval strategies"
   ]
  },
  {
   "cell_type": "code",
   "execution_count": null,
   "id": "4b672ab7",
   "metadata": {},
   "outputs": [],
   "source": []
  }
 ],
 "metadata": {
  "kernelspec": {
   "display_name": "RAGsampleProject",
   "language": "python",
   "name": "python3"
  },
  "language_info": {
   "codemirror_mode": {
    "name": "ipython",
    "version": 3
   },
   "file_extension": ".py",
   "mimetype": "text/x-python",
   "name": "python",
   "nbconvert_exporter": "python",
   "pygments_lexer": "ipython3",
   "version": "3.12.7"
  }
 },
 "nbformat": 4,
 "nbformat_minor": 5
}
